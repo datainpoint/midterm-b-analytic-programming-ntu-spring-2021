{
 "cells": [
  {
   "cell_type": "markdown",
   "metadata": {
    "deletable": false,
    "editable": false
   },
   "source": [
    "## Analytic Programming\n",
    "\n",
    "> Midterm B: Analytic Programming, NTU, Spring, 2021.\n",
    "\n",
    "Kuo, Yao-Jen <yaojenkuo@ntu.edu.tw> from [DATAINPOINT](https://www.datainpoint.com)"
   ]
  },
  {
   "cell_type": "markdown",
   "metadata": {
    "deletable": false,
    "editable": false
   },
   "source": [
    "## Instructions\n",
    "\n",
    "- We've imported necessary modules/libraries at the beginning of each exercise.\n",
    "- We've put necessary files(if any) in the working directory of each exercise.\n",
    "- We've defined the names of functions/inputs/arguments for you.\n",
    "- Write down your solution between the comments `### BEGIN SOLUTION` and `### END SOLUTION`.\n",
    "- Running tests to see if your solutions are right: Kernel -> Restart & Run All -> Restart and Run All Cells.\n",
    "- You can run tests after each question or after finishing all questions.\n",
    "- REMEMBER to upload your `.ipynb` file to CEIBA when you are done running tests."
   ]
  },
  {
   "cell_type": "code",
   "execution_count": 1,
   "metadata": {
    "deletable": false,
    "editable": false
   },
   "outputs": [],
   "source": [
    "import json\n",
    "import unittest"
   ]
  },
  {
   "cell_type": "markdown",
   "metadata": {},
   "source": [
    "## 00. Define a function named `extract_all_coaches` that is able to extract the essential information of all coaches including head coaches and assistant coaches from `coaches.json`.\n",
    "\n",
    "- Expected inputs: a file `coaches.json`.\n",
    "- Expected outputs: a list.\n",
    "\n",
    "```\n",
    "[\n",
    "    {'firstName': 'Doc',\n",
    "     'lastName': 'Rivers',\n",
    "     'isAssistant': False,\n",
    "     'teamTricode': 'PHI'},\n",
    "     ...,\n",
    "    {'firstName': 'Mike',\n",
    "     'lastName': 'Terpstra',\n",
    "     'isAssistant': True,\n",
    "     'teamTricode': 'WAS'}\n",
    "]\n",
    "```"
   ]
  },
  {
   "cell_type": "code",
   "execution_count": 2,
   "metadata": {},
   "outputs": [],
   "source": [
    "def extract_all_coaches(coaches_json):\n",
    "    \"\"\"\n",
    "    >>> all_coaches = extract_all_coaches('coaches.json')\n",
    "    >>> type(all_coaches)\n",
    "    list\n",
    "    >>> len(all_coaches)\n",
    "    240\n",
    "    >>> all_coaches[0]\n",
    "    {'firstName': 'Doc',\n",
    "     'lastName': 'Rivers',\n",
    "     'isAssistant': False,\n",
    "     'teamTricode': 'PHI'}\n",
    "    >>> all_coaches[-1]\n",
    "    {'firstName': 'Mike',\n",
    "     'lastName': 'Terpstra',\n",
    "     'isAssistant': True,\n",
    "     'teamTricode': 'WAS'}\n",
    "    \"\"\"\n",
    "    ### BEGIN SOLUTION\n",
    "    \n",
    "    ### END SOLUTION"
   ]
  },
  {
   "cell_type": "markdown",
   "metadata": {},
   "source": [
    "## 01. Define a function named `extract_assistant_coaches` that is able to extract head coaches from `coaches.json`.\n",
    "\n",
    "- Expected inputs: a file `coaches.json`.\n",
    "- Expected outputs: a dictionary.\n",
    "\n",
    "```\n",
    "{\n",
    "    'PHI': [assistant_coaches, ...],\n",
    "    'BKN': [assistant_coaches, ...],\n",
    "    'SAS': [assistant_coaches, ...],\n",
    "    ...\n",
    "}\n",
    "```"
   ]
  },
  {
   "cell_type": "code",
   "execution_count": 3,
   "metadata": {},
   "outputs": [],
   "source": [
    "def extract_assistant_coaches(coaches_json):\n",
    "    \"\"\"\n",
    "    >>> assistant_coaches = extract_assistant_coaches('coaches.json')\n",
    "    >>> type(assistant_coaches)\n",
    "    dict\n",
    "    >>> len(assistant_coaches)\n",
    "    30\n",
    "    >>> assistant_coaches['PHI']\n",
    "    ['David Joerger',\n",
    "     'Sam Cassell',\n",
    "     'Dan Burke',\n",
    "     'Popeye Jones',\n",
    "     'Ronald Jones',\n",
    "     'Eric Hughes',\n",
    "     'Brian Adams',\n",
    "     'Kevin Johnson']\n",
    "    >>> assistant_coaches['BKN']\n",
    "    ['Jacque Vaughn',\n",
    "     \"Mike D'Antoni\",\n",
    "     'Ime Udoka',\n",
    "     'Adam Harrington',\n",
    "     'Jordan Ott',\n",
    "     'Tiago Splitter',\n",
    "     'Royal Ivey',\n",
    "     'Ryan Forehan-Kelly',\n",
    "     'Sebastien Poirier',\n",
    "     'Dan Liburd']\n",
    "    >>> assistant_coaches['SAS']\n",
    "    ['Becky Hammon',\n",
    "     'Will Hardy',\n",
    "     'Mitch Johnson',\n",
    "     'Chip Engelland',\n",
    "     'Darius Songaila',\n",
    "     'Will Sevening']\n",
    "    \"\"\"\n",
    "    ### BEGIN SOLUTION\n",
    "    \n",
    "    ### END SOLUTION"
   ]
  },
  {
   "cell_type": "markdown",
   "metadata": {},
   "source": [
    "## 02. Define a function named `find_heaviest_lightest_players` that is able to find the heaviest and the lightest NBA players from `players.json`.\n",
    "\n",
    "PS Skip those players whose `weightKilograms` is an empty string.\n",
    "\n",
    "- Expected inputs: a file `players.json`.\n",
    "- Expected outputs: a dictionary.\n",
    "\n",
    "```\n",
    "{\n",
    "    'heaviest': {'weightKilograms': max_weight_kilograms,\n",
    "                'players': [heaviest_players, ...]},\n",
    "    'lightest': {'weightKilograms': min_weight_kilograms,\n",
    "                 'players': [lightest_players, ...]}\n",
    "}\n",
    "```"
   ]
  },
  {
   "cell_type": "code",
   "execution_count": 4,
   "metadata": {},
   "outputs": [],
   "source": [
    "def find_heaviest_lightest_players(players_json):\n",
    "    \"\"\"\n",
    "    >>> heaviest_lightest_players = find_heaviest_lightest_players('players.json')\n",
    "    >>> type(heaviest_lightest_players)\n",
    "    dict\n",
    "    >>> heaviest_lightest_players['heaviest']['weightKilograms']\n",
    "    141.1\n",
    "    >>> heaviest_lightest_players['heaviest']['players']\n",
    "    ['Tacko Fall']\n",
    "    >>> heaviest_lightest_players['lightest']['weightKilograms']\n",
    "    72.6\n",
    "    >>> heaviest_lightest_players['lightest']['players']\n",
    "    ['Tyrell Terry']\n",
    "    \"\"\"\n",
    "    ### BEGIN SOLUTION\n",
    "    \n",
    "    ### END SOLUTION"
   ]
  },
  {
   "cell_type": "markdown",
   "metadata": {},
   "source": [
    "## 03. Define a function named `find_nuggets_sixers_players`  that is able to find the players who are currently playing for the Denver Nuggets and the Philadelphia 76ers from `players.json` and `teams.json`.\n",
    "\n",
    "- Expected inputs: two files `players.json` and `teams.json`.\n",
    "- Expected outputs: a dictionary.\n",
    "\n",
    "```\n",
    "{\n",
    "    'Denver Nuggets': ['Will Barton', ...],\n",
    "    'Philadelphia 76ers': ['Seth Curry', ...]\n",
    "}\n",
    "```"
   ]
  },
  {
   "cell_type": "code",
   "execution_count": 5,
   "metadata": {},
   "outputs": [],
   "source": [
    "def find_nuggets_sixers_players(players_json, teams_json):\n",
    "    \"\"\"\n",
    "    >>> nuggets_sixers_players = find_nuggets_sixers_players('players.json', 'teams.json')\n",
    "    >>> type(nuggets_sixers_players)\n",
    "    dict\n",
    "    >>> len(nuggets_sixers_players['Denver Nuggets'])\n",
    "    17\n",
    "    >>> len(nuggets_sixers_players['Philadelphia 76ers'])\n",
    "    17\n",
    "    >>> nuggets_sixers_players['Denver Nuggets'][0]\n",
    "    'Will Barton'\n",
    "    >>> nuggets_sixers_players['Denver Nuggets'][1]\n",
    "    'Bol Bol'\n",
    "    >>> nuggets_sixers_players['Philadelphia 76ers'][0]\n",
    "    'Seth Curry'\n",
    "    >>> nuggets_sixers_players['Philadelphia 76ers'][1]\n",
    "    'Joel Embiid'\n",
    "    \"\"\"\n",
    "    ### BEGIN SOLUTION\n",
    "    \n",
    "    ### END SOLUTION"
   ]
  },
  {
   "cell_type": "markdown",
   "metadata": {},
   "source": [
    "## 04. Define a function named `find_lakers_coaches_players`  that is able to find the coaches and current players of the Los Angeles Lakers from `coaches.json`, `players.json`, and `teams.json`.\n",
    "\n",
    "- Expected inputs: three files `coaches.json`, `players.json`, and `teams.json`.\n",
    "- Expected outputs: a dictionary.\n",
    "\n",
    "```\n",
    "{\n",
    "    'headCoach': head_coach,\n",
    "    'assistantCoaches': [assistant_coaches, ...],\n",
    "    'players': [players, ...]\n",
    "}\n",
    "```"
   ]
  },
  {
   "cell_type": "code",
   "execution_count": 6,
   "metadata": {},
   "outputs": [],
   "source": [
    "def find_lakers_coaches_players(coaches_json, players_json, teams_json):\n",
    "    \"\"\"\n",
    "    >>> lakers_coaches_players = find_lakers_coaches_players('coaches.json', 'players.json', 'teams.json')\n",
    "    >>> type(lakers_coaches_players)\n",
    "    dict\n",
    "    >>> lakers_coaches_players['headCoach']\n",
    "    'Frank Vogel'\n",
    "    >>> len(lakers_coaches_players['assistantCoaches'])\n",
    "    6\n",
    "    >>> len(lakers_coaches_players['players'])\n",
    "    17\n",
    "    >>> lakers_coaches_players['assistantCoaches'][0]\n",
    "    'Jason Kidd'\n",
    "    >>> lakers_coaches_players['players'][0]\n",
    "    'Kostas Antetokounmpo'\n",
    "    \"\"\"\n",
    "    ### BEGIN SOLUTION\n",
    "    \n",
    "    ### END SOLUTION"
   ]
  },
  {
   "cell_type": "markdown",
   "metadata": {
    "deletable": false,
    "editable": false
   },
   "source": [
    "## Run tests!\n",
    "\n",
    "Kernel -> Restart & Run All. -> Restart And Run All Cells."
   ]
  },
  {
   "cell_type": "code",
   "execution_count": 7,
   "metadata": {
    "deletable": false,
    "editable": false
   },
   "outputs": [
    {
     "name": "stderr",
     "output_type": "stream",
     "text": [
      "test_00_extract_all_coaches (__main__.TestMidterm) ... FAIL\n",
      "test_01_extract_assistant_coaches (__main__.TestMidterm) ... FAIL\n",
      "test_02_find_heaviest_lightest_players (__main__.TestMidterm) ... FAIL\n",
      "test_03_find_nuggets_sixers_players (__main__.TestMidterm) ... FAIL\n",
      "test_04_find_lakers_coaches_players (__main__.TestMidterm) ... FAIL\n",
      "\n",
      "======================================================================\n",
      "FAIL: test_00_extract_all_coaches (__main__.TestMidterm)\n",
      "----------------------------------------------------------------------\n",
      "Traceback (most recent call last):\n",
      "  File \"<ipython-input-7-a7a82e87e138>\", line 4, in test_00_extract_all_coaches\n",
      "    self.assertIsInstance(all_coaches, list)\n",
      "AssertionError: None is not an instance of <class 'list'>\n",
      "\n",
      "======================================================================\n",
      "FAIL: test_01_extract_assistant_coaches (__main__.TestMidterm)\n",
      "----------------------------------------------------------------------\n",
      "Traceback (most recent call last):\n",
      "  File \"<ipython-input-7-a7a82e87e138>\", line 12, in test_01_extract_assistant_coaches\n",
      "    self.assertIsInstance(assistant_coaches, dict)\n",
      "AssertionError: None is not an instance of <class 'dict'>\n",
      "\n",
      "======================================================================\n",
      "FAIL: test_02_find_heaviest_lightest_players (__main__.TestMidterm)\n",
      "----------------------------------------------------------------------\n",
      "Traceback (most recent call last):\n",
      "  File \"<ipython-input-7-a7a82e87e138>\", line 19, in test_02_find_heaviest_lightest_players\n",
      "    self.assertIsInstance(heaviest_lightest_players, dict)\n",
      "AssertionError: None is not an instance of <class 'dict'>\n",
      "\n",
      "======================================================================\n",
      "FAIL: test_03_find_nuggets_sixers_players (__main__.TestMidterm)\n",
      "----------------------------------------------------------------------\n",
      "Traceback (most recent call last):\n",
      "  File \"<ipython-input-7-a7a82e87e138>\", line 27, in test_03_find_nuggets_sixers_players\n",
      "    self.assertIsInstance(nuggets_sixers_players, dict)\n",
      "AssertionError: None is not an instance of <class 'dict'>\n",
      "\n",
      "======================================================================\n",
      "FAIL: test_04_find_lakers_coaches_players (__main__.TestMidterm)\n",
      "----------------------------------------------------------------------\n",
      "Traceback (most recent call last):\n",
      "  File \"<ipython-input-7-a7a82e87e138>\", line 39, in test_04_find_lakers_coaches_players\n",
      "    self.assertIsInstance(lakers_coaches_players, dict)\n",
      "AssertionError: None is not an instance of <class 'dict'>\n",
      "\n",
      "----------------------------------------------------------------------\n",
      "Ran 5 tests in 0.019s\n",
      "\n",
      "FAILED (failures=5)\n"
     ]
    }
   ],
   "source": [
    "class TestMidterm(unittest.TestCase):\n",
    "    def test_00_extract_all_coaches(self):\n",
    "        all_coaches = extract_all_coaches('coaches.json')\n",
    "        self.assertIsInstance(all_coaches, list)\n",
    "        self.assertIsInstance(all_coaches[0], dict)\n",
    "        self.assertIsInstance(all_coaches[-1], dict)\n",
    "        self.assertEqual(len(all_coaches), 240)\n",
    "        self.assertEqual(len(all_coaches[0]), 4)\n",
    "        self.assertEqual(len(all_coaches[-1]), 4)\n",
    "    def test_01_extract_assistant_coaches(self):\n",
    "        assistant_coaches = extract_assistant_coaches('coaches.json')\n",
    "        self.assertIsInstance(assistant_coaches, dict)\n",
    "        self.assertEqual(len(assistant_coaches), 30)\n",
    "        self.assertTrue('Sam Cassell' in assistant_coaches['PHI'])\n",
    "        self.assertTrue(\"Mike D'Antoni\" in assistant_coaches['BKN'])\n",
    "        self.assertTrue('Darius Songaila' in assistant_coaches['SAS'])\n",
    "    def test_02_find_heaviest_lightest_players(self):\n",
    "        heaviest_lightest_players = find_heaviest_lightest_players('players.json')\n",
    "        self.assertIsInstance(heaviest_lightest_players, dict)\n",
    "        self.assertEqual(heaviest_lightest_players['heaviest']['weightKilograms'], 141.1)\n",
    "        self.assertEqual(heaviest_lightest_players['lightest']['weightKilograms'], 72.6)\n",
    "        tallest_players = heaviest_lightest_players['heaviest']['players']\n",
    "        self.assertTrue('Tacko Fall' in heaviest_lightest_players['heaviest']['players'])\n",
    "        self.assertTrue('Tyrell Terry' in heaviest_lightest_players['lightest']['players'])\n",
    "    def test_03_find_nuggets_sixers_players(self):\n",
    "        nuggets_sixers_players = find_nuggets_sixers_players('players.json', 'teams.json')\n",
    "        self.assertIsInstance(nuggets_sixers_players, dict)\n",
    "        self.assertEqual(len(nuggets_sixers_players['Denver Nuggets']), 17)\n",
    "        self.assertEqual(len(nuggets_sixers_players['Philadelphia 76ers']), 17)\n",
    "        nuggets_players = nuggets_sixers_players['Denver Nuggets']\n",
    "        self.assertTrue('Nikola Jokic' in nuggets_players)\n",
    "        self.assertTrue('Jamal Murray' in nuggets_players)\n",
    "        sixers_players = nuggets_sixers_players['Philadelphia 76ers']\n",
    "        self.assertTrue('Joel Embiid' in sixers_players)\n",
    "        self.assertTrue('Ben Simmons' in sixers_players)\n",
    "        self.assertTrue('Tobias Harris' in sixers_players)\n",
    "    def test_04_find_lakers_coaches_players(self):\n",
    "        lakers_coaches_players = find_lakers_coaches_players('coaches.json', 'players.json', 'teams.json')\n",
    "        self.assertIsInstance(lakers_coaches_players, dict)\n",
    "        self.assertEqual(lakers_coaches_players['headCoach'], 'Frank Vogel')\n",
    "        self.assertTrue('Jason Kidd' in lakers_coaches_players['assistantCoaches'])\n",
    "        self.assertEqual(len(lakers_coaches_players['players']), 17)\n",
    "        self.assertTrue('LeBron James' in lakers_coaches_players['players'])\n",
    "        self.assertTrue('Anthony Davis' in lakers_coaches_players['players'])\n",
    "        \n",
    "suite = unittest.TestLoader().loadTestsFromTestCase(TestMidterm)\n",
    "runner = unittest.TextTestRunner(verbosity=2)\n",
    "test_results = runner.run(suite)\n",
    "number_of_failures = len(test_results.failures)\n",
    "number_of_errors = len(test_results.errors)\n",
    "number_of_test_runs = test_results.testsRun\n",
    "number_of_successes = number_of_test_runs - (number_of_failures + number_of_errors)"
   ]
  },
  {
   "cell_type": "code",
   "execution_count": 8,
   "metadata": {
    "deletable": false,
    "editable": false
   },
   "outputs": [
    {
     "name": "stdout",
     "output_type": "stream",
     "text": [
      "You've got 0 points among 5 questions.\n"
     ]
    }
   ],
   "source": [
    "print(\"You've got {} points among {} questions.\".format(number_of_successes * 3, number_of_test_runs))"
   ]
  }
 ],
 "metadata": {
  "kernelspec": {
   "display_name": "Python 3",
   "language": "python",
   "name": "python3"
  },
  "language_info": {
   "codemirror_mode": {
    "name": "ipython",
    "version": 3
   },
   "file_extension": ".py",
   "mimetype": "text/x-python",
   "name": "python",
   "nbconvert_exporter": "python",
   "pygments_lexer": "ipython3",
   "version": "3.8.5"
  }
 },
 "nbformat": 4,
 "nbformat_minor": 4
}
